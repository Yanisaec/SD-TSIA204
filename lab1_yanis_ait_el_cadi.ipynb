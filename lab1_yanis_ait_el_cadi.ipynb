{
 "cells": [
  {
   "cell_type": "code",
   "execution_count": 51,
   "metadata": {},
   "outputs": [],
   "source": [
    "import pandas as pd\n",
    "import numpy as np\n",
    "import matplotlib.pyplot as plt\n",
    "from sklearn.linear_model import LinearRegression\n",
    "from scipy.stats import t"
   ]
  },
  {
   "cell_type": "markdown",
   "metadata": {},
   "source": [
    "### Q.1"
   ]
  },
  {
   "cell_type": "code",
   "execution_count": 12,
   "metadata": {},
   "outputs": [
    {
     "data": {
      "text/html": [
       "<div>\n",
       "<style scoped>\n",
       "    .dataframe tbody tr th:only-of-type {\n",
       "        vertical-align: middle;\n",
       "    }\n",
       "\n",
       "    .dataframe tbody tr th {\n",
       "        vertical-align: top;\n",
       "    }\n",
       "\n",
       "    .dataframe thead th {\n",
       "        text-align: right;\n",
       "    }\n",
       "</style>\n",
       "<table border=\"1\" class=\"dataframe\">\n",
       "  <thead>\n",
       "    <tr style=\"text-align: right;\">\n",
       "      <th></th>\n",
       "      <th>year</th>\n",
       "      <th>gnp</th>\n",
       "      <th>invest</th>\n",
       "      <th>cpi</th>\n",
       "      <th>interest</th>\n",
       "    </tr>\n",
       "  </thead>\n",
       "  <tbody>\n",
       "    <tr>\n",
       "      <th>0</th>\n",
       "      <td>1968</td>\n",
       "      <td>873.4</td>\n",
       "      <td>133.3</td>\n",
       "      <td>82.54</td>\n",
       "      <td>5.16</td>\n",
       "    </tr>\n",
       "    <tr>\n",
       "      <th>1</th>\n",
       "      <td>1969</td>\n",
       "      <td>944.0</td>\n",
       "      <td>149.3</td>\n",
       "      <td>86.79</td>\n",
       "      <td>5.87</td>\n",
       "    </tr>\n",
       "    <tr>\n",
       "      <th>2</th>\n",
       "      <td>1970</td>\n",
       "      <td>992.7</td>\n",
       "      <td>144.2</td>\n",
       "      <td>91.45</td>\n",
       "      <td>5.95</td>\n",
       "    </tr>\n",
       "    <tr>\n",
       "      <th>3</th>\n",
       "      <td>1971</td>\n",
       "      <td>1077.6</td>\n",
       "      <td>166.4</td>\n",
       "      <td>96.01</td>\n",
       "      <td>4.88</td>\n",
       "    </tr>\n",
       "    <tr>\n",
       "      <th>4</th>\n",
       "      <td>1972</td>\n",
       "      <td>1185.9</td>\n",
       "      <td>195.0</td>\n",
       "      <td>100.00</td>\n",
       "      <td>4.50</td>\n",
       "    </tr>\n",
       "  </tbody>\n",
       "</table>\n",
       "</div>"
      ],
      "text/plain": [
       "   year     gnp  invest     cpi  interest\n",
       "0  1968   873.4   133.3   82.54      5.16\n",
       "1  1969   944.0   149.3   86.79      5.87\n",
       "2  1970   992.7   144.2   91.45      5.95\n",
       "3  1971  1077.6   166.4   96.01      4.88\n",
       "4  1972  1185.9   195.0  100.00      4.50"
      ]
     },
     "execution_count": 12,
     "metadata": {},
     "output_type": "execute_result"
    }
   ],
   "source": [
    "df = pd.read_csv(\"data.csv\", sep = \" \", names = [\"year\",\"gnp\",\"invest\",\"cpi\",\"interest\"])\n",
    "df.head(5)"
   ]
  },
  {
   "cell_type": "markdown",
   "metadata": {},
   "source": [
    "### Q.2"
   ]
  },
  {
   "cell_type": "code",
   "execution_count": 65,
   "metadata": {},
   "outputs": [
    {
     "data": {
      "text/html": [
       "<div>\n",
       "<style scoped>\n",
       "    .dataframe tbody tr th:only-of-type {\n",
       "        vertical-align: middle;\n",
       "    }\n",
       "\n",
       "    .dataframe tbody tr th {\n",
       "        vertical-align: top;\n",
       "    }\n",
       "\n",
       "    .dataframe thead th {\n",
       "        text-align: right;\n",
       "    }\n",
       "</style>\n",
       "<table border=\"1\" class=\"dataframe\">\n",
       "  <thead>\n",
       "    <tr style=\"text-align: right;\">\n",
       "      <th></th>\n",
       "      <th>year</th>\n",
       "      <th>gnp</th>\n",
       "      <th>invest</th>\n",
       "      <th>cpi</th>\n",
       "      <th>interest</th>\n",
       "      <th>gnp_log</th>\n",
       "      <th>invest_log</th>\n",
       "    </tr>\n",
       "  </thead>\n",
       "  <tbody>\n",
       "    <tr>\n",
       "      <th>0</th>\n",
       "      <td>1968</td>\n",
       "      <td>873.4</td>\n",
       "      <td>133.3</td>\n",
       "      <td>82.54</td>\n",
       "      <td>5.16</td>\n",
       "      <td>6.772394</td>\n",
       "      <td>4.892602</td>\n",
       "    </tr>\n",
       "    <tr>\n",
       "      <th>1</th>\n",
       "      <td>1969</td>\n",
       "      <td>944.0</td>\n",
       "      <td>149.3</td>\n",
       "      <td>86.79</td>\n",
       "      <td>5.87</td>\n",
       "      <td>6.850126</td>\n",
       "      <td>5.005958</td>\n",
       "    </tr>\n",
       "    <tr>\n",
       "      <th>2</th>\n",
       "      <td>1970</td>\n",
       "      <td>992.7</td>\n",
       "      <td>144.2</td>\n",
       "      <td>91.45</td>\n",
       "      <td>5.95</td>\n",
       "      <td>6.900429</td>\n",
       "      <td>4.971201</td>\n",
       "    </tr>\n",
       "    <tr>\n",
       "      <th>3</th>\n",
       "      <td>1971</td>\n",
       "      <td>1077.6</td>\n",
       "      <td>166.4</td>\n",
       "      <td>96.01</td>\n",
       "      <td>4.88</td>\n",
       "      <td>6.982492</td>\n",
       "      <td>5.114395</td>\n",
       "    </tr>\n",
       "    <tr>\n",
       "      <th>4</th>\n",
       "      <td>1972</td>\n",
       "      <td>1185.9</td>\n",
       "      <td>195.0</td>\n",
       "      <td>100.00</td>\n",
       "      <td>4.50</td>\n",
       "      <td>7.078257</td>\n",
       "      <td>5.273000</td>\n",
       "    </tr>\n",
       "  </tbody>\n",
       "</table>\n",
       "</div>"
      ],
      "text/plain": [
       "   year     gnp  invest     cpi  interest   gnp_log  invest_log\n",
       "0  1968   873.4   133.3   82.54      5.16  6.772394    4.892602\n",
       "1  1969   944.0   149.3   86.79      5.87  6.850126    5.005958\n",
       "2  1970   992.7   144.2   91.45      5.95  6.900429    4.971201\n",
       "3  1971  1077.6   166.4   96.01      4.88  6.982492    5.114395\n",
       "4  1972  1185.9   195.0  100.00      4.50  7.078257    5.273000"
      ]
     },
     "execution_count": 65,
     "metadata": {},
     "output_type": "execute_result"
    },
    {
     "data": {
      "image/png": "[encoded data removed]",
      "text/plain": [
       "<Figure size 640x480 with 1 Axes>"
      ]
     },
     "metadata": {},
     "output_type": "display_data"
    }
   ],
   "source": [
    "df = pd.read_csv(\"data.csv\", sep = \" \", names = [\"year\",\"gnp\",\"invest\",\"cpi\",\"interest\"])\n",
    "df[\"gnp_log\"] = df[\"gnp\"].apply(lambda x : np.log(x))\n",
    "df[\"invest_log\"] = df[\"invest\"].apply(lambda x : np.log(x))\n",
    "df.plot.scatter(x=\"gnp_log\",y=\"invest_log\")\n",
    "df.head(5)"
   ]
  },
  {
   "cell_type": "markdown",
   "metadata": {},
   "source": [
    "### Q.3"
   ]
  },
  {
   "cell_type": "markdown",
   "metadata": {},
   "source": [
    "$$ \n",
    "Y_i = \\beta_0 + \\beta_1 x_i + \\epsilon_i \\newline \\hat{\\beta_0} = \\overline{Y} - \\hat{\\beta_1} \\overline{x} \\newline\n",
    "\\hat{\\beta_1} = \\frac {\\sum_{i=1}^{n}(x_i - \\overline{x})(Y_i - \\overline{Y})} {\\sum_{i=1}^{n}(x_i - \\overline{x})^2} \n",
    "$$"
   ]
  },
  {
   "cell_type": "code",
   "execution_count": 68,
   "metadata": {},
   "outputs": [
    {
     "name": "stdout",
     "output_type": "stream",
     "text": [
      "beta1 : 1.015281401598871 || beta1_variance : 0.003067283374269269\n",
      "beta0 : -1.9635913352301815 || beta0_variance : 0.1677289677260404\n",
      "sigma_squared : 0.0076763385554603995\n",
      "R2 : 0.9627572956057855\n"
     ]
    }
   ],
   "source": [
    "n = len(df.index)\n",
    "\n",
    "gnp = df[\"gnp_log\"].to_list()\n",
    "invest = df[\"invest_log\"].to_list()\n",
    "\n",
    "invest_mean = 0\n",
    "gnp_mean = 0\n",
    "for i in range(n):\n",
    "    invest_mean += invest[i]/n\n",
    "    gnp_mean += gnp[i]/n\n",
    "\n",
    "beta1, factor = 0,0\n",
    "for i in range(n):\n",
    "    beta1 += (gnp[i] - gnp_mean) * (invest[i] - invest_mean)\n",
    "    factor += (gnp[i] - gnp_mean)**2\n",
    "beta1 = beta1/factor\n",
    "\n",
    "beta0 = invest_mean - beta1 * gnp_mean\n",
    "\n",
    "sigma_squared = 0\n",
    "for i in range(n):\n",
    "    sigma_squared += (invest[i] - (beta0 + beta1*gnp[i]))**2\n",
    "sigma_squared = sigma_squared/(n-2)\n",
    "\n",
    "beta0_var = sigma_squared*(1/n + gnp_mean**2 / factor)\n",
    "beta1_var = sigma_squared/factor\n",
    "\n",
    "R2,factor2 = 0,0\n",
    "for i in range(n): \n",
    "    R2 += (beta0 + beta1*gnp[i] - invest_mean)**2\n",
    "    factor2 += (invest[i] - invest_mean)**2\n",
    "R2 = R2/factor2\n",
    "\n",
    "print(\"beta1 :\", beta1,\"|| beta1_variance :\", beta1_var)\n",
    "print(\"beta0 :\", beta0,\"|| beta0_variance :\", beta0_var)\n",
    "print(\"sigma_squared :\", sigma_squared)\n",
    "print(\"R2 :\",R2)"
   ]
  },
  {
   "cell_type": "markdown",
   "metadata": {},
   "source": [
    "### Q.4"
   ]
  },
  {
   "cell_type": "code",
   "execution_count": 67,
   "metadata": {},
   "outputs": [
    {
     "name": "stdout",
     "output_type": "stream",
     "text": [
      "test not valid for beta0\n",
      "test not valid for beta1\n",
      "pval : 5.681854986505641e-11\n"
     ]
    }
   ],
   "source": [
    "alpha = 0.05\n",
    "t1 = -t.ppf(1-alpha/2,n - 2)\n",
    "t2 = t.ppf(1-alpha/2,n - 2)\n",
    "test_beta0 = beta0/(beta0_var**(1/2))\n",
    "test_beta1 = beta1/(beta1_var**(1/2))\n",
    "if test_beta0 > t1 and test_beta0 < t2:\n",
    "    print(\"test valid for beta0\")\n",
    "else:\n",
    "    print(\"test not valid for beta0\")\n",
    "if test_beta1 > t1 and test_beta1 < t2:\n",
    "    print(\"test valid for beta1\")\n",
    "else:\n",
    "    print(\"test not valid for beta1\")\n",
    "\n",
    "pval = 1 - t.cdf(test_beta1,n-2)\n",
    "\n",
    "print(\"pval :\",pval)"
   ]
  },
  {
   "cell_type": "markdown",
   "metadata": {},
   "source": [
    "### Q.5"
   ]
  },
  {
   "cell_type": "code",
   "execution_count": 70,
   "metadata": {},
   "outputs": [
    {
     "name": "stdout",
     "output_type": "stream",
     "text": [
      "For a gnp of 1000, the investment should be : 155.97942793105494\n",
      "Confidence interval : [ 146.67552673421952 ; 165.8734928682758 ]\n",
      "Prediction interval : [ 132.00238933412936 ; 184.31167845087424 ]\n"
     ]
    }
   ],
   "source": [
    "gnp_test = np.log(1000)\n",
    "invest_estimated = np.exp(beta0 + beta1*gnp_test)\n",
    "print(\"For a gnp of 1000, the investment should be :\",invest_estimated)\n",
    "\n",
    "alpha = 0.1\n",
    "\n",
    "CI1 = np.exp(beta0 + beta1 * gnp_test - t.ppf(1-alpha/2, n-2)*np.sqrt(sigma_squared)*np.sqrt(1/n+((gnp_test-gnp_mean)**2)/factor))\n",
    "CI2 = np.exp(beta0 + beta1 * gnp_test + t.ppf(1-alpha/2, n-2)*np.sqrt(sigma_squared)*np.sqrt(1/n+((gnp_test-gnp_mean)**2)/factor))\n",
    "PI1 = np.exp(beta0 + beta1 * gnp_test - t.ppf(1-alpha/2, n-2)*np.sqrt(sigma_squared)*np.sqrt(1+1/n+((gnp_test-gnp_mean)**2)/factor))\n",
    "PI2 = np.exp(beta0 + beta1 * gnp_test + t.ppf(1-alpha/2, n-2)*np.sqrt(sigma_squared)*np.sqrt(1+1/n+((gnp_test-gnp_mean)**2)/factor))\n",
    "\n",
    "print(\"Confidence interval : [\",CI1,\";\",CI2,\"]\")\n",
    "print(\"Prediction interval : [\",PI1,\";\",PI2,\"]\")"
   ]
  },
  {
   "cell_type": "markdown",
   "metadata": {},
   "source": [
    "### Q.6"
   ]
  },
  {
   "cell_type": "code",
   "execution_count": 98,
   "metadata": {},
   "outputs": [
    {
     "data": {
      "image/png": "[encoded data removed]",
      "text/plain": [
       "<Figure size 640x480 with 1 Axes>"
      ]
     },
     "metadata": {},
     "output_type": "display_data"
    }
   ],
   "source": [
    "def ci(gnp_est):\n",
    "    return t.ppf(1-alpha/2, n-2)*np.sqrt(sigma_squared)*np.sqrt(1/n+((gnp_est)-gnp_mean)**2/factor)\n",
    "\n",
    "def pi(gnp_est):\n",
    "    return t.ppf(1-alpha/2, n-2)*np.sqrt(sigma_squared)*np.sqrt(1+1/n+((gnp_est)-gnp_mean)**2/factor)\n",
    "\n",
    "def estimation(x):\n",
    "    return beta0 + beta1*x\n",
    "\n",
    "plt.plot(df['gnp_log'], df['invest_log'], 'bo', df['gnp_log'], estimation(df['gnp_log']), 'b--')\n",
    "\n",
    "plt.fill_between(df['gnp_log'], estimation(df['gnp_log'])-ci(df['gnp_log']), estimation(df['gnp_log'])+ci(df['gnp_log']), color='red', alpha=0.5)\n",
    "\n",
    "plt.fill_between(df['gnp_log'], estimation(df['gnp_log'])-pi(df['gnp_log']), estimation(df['gnp_log'])+pi(df['gnp_log']), color='orange', alpha=0.5)\n",
    "\n",
    "\n",
    "plt.xlabel('gnp_log')\n",
    "plt.ylabel('invest_log')\n",
    "plt.show()"
   ]
  },
  {
   "cell_type": "markdown",
   "metadata": {},
   "source": [
    "### Q.7"
   ]
  },
  {
   "cell_type": "code",
   "execution_count": 106,
   "metadata": {},
   "outputs": [
    {
     "name": "stdout",
     "output_type": "stream",
     "text": [
      "beta_1:  1.0152814015988711 \n",
      "beta_0:  -1.9635913352301833 \n",
      "Determination coefficient:  0.9812019647380378 \n",
      "Investment predicted:  155.97942793105494\n",
      "The results coincide with what was found 'by hand'\n"
     ]
    }
   ],
   "source": [
    "gnp2 = [[gnp[i]] for i in range(n)]\n",
    "\n",
    "reg = LinearRegression().fit(gnp2,invest)\n",
    "print(\"beta_1: \", reg.coef_[0],\"\\nbeta_0: \", reg.intercept_,\"\\nDetermination coefficient: \", np.sqrt(reg.score(gnp2, invest)),\"\\nInvestment predicted: \", np.exp(reg.predict(np.array([[np.log(1000)]])))[0])\n",
    "\n",
    "print(\"The results coincide with what was found 'by hand'\")"
   ]
  },
  {
   "cell_type": "markdown",
   "metadata": {},
   "source": [
    "### Q.8 "
   ]
  },
  {
   "cell_type": "code",
   "execution_count": 113,
   "metadata": {},
   "outputs": [
    {
     "data": {
      "image/png": "[encoded data removed]",
      "text/plain": [
       "<Figure size 640x480 with 1 Axes>"
      ]
     },
     "metadata": {},
     "output_type": "display_data"
    },
    {
     "name": "stdout",
     "output_type": "stream",
     "text": [
      "The two slopes are on top of each other\n"
     ]
    }
   ],
   "source": [
    "def reg_predict(x):\n",
    "    return reg.coef_[0]*x + reg.intercept_\n",
    "\n",
    "plt.plot(df['gnp_log'], df['invest_log'], 'bo', df['gnp_log'],estimation(df['gnp_log']),'g', df['gnp_log'], reg_predict(df['gnp_log']), 'r')\n",
    "\n",
    "plt.xlabel('gnp_log')\n",
    "plt.ylabel('invest_log')\n",
    "plt.show()\n",
    "\n",
    "print(\"The two slopes are on top of each other\")"
   ]
  },
  {
   "cell_type": "markdown",
   "metadata": {},
   "source": [
    "### Q.9"
   ]
  },
  {
   "cell_type": "code",
   "execution_count": 130,
   "metadata": {},
   "outputs": [
    {
     "name": "stderr",
     "output_type": "stream",
     "text": [
      "C:\\Users\\boite\\AppData\\Local\\Temp\\ipykernel_2700\\3955368886.py:3: SettingWithCopyWarning: \n",
      "A value is trying to be set on a copy of a slice from a DataFrame.\n",
      "Try using .loc[row_indexer,col_indexer] = value instead\n",
      "\n",
      "See the caveats in the documentation: https://pandas.pydata.org/pandas-docs/stable/user_guide/indexing.html#returning-a-view-versus-a-copy\n",
      "  gnp_log_interest[\"intercept\"] = 1\n"
     ]
    }
   ],
   "source": [
    "gnp_log_interest = df[['gnp_log','interest']]\n",
    "invest_log = df['invest_log']\n",
    "gnp_log_interest[\"intercept\"] = 1\n",
    "gnp_log_interest = gnp_log_interest[['intercept','gnp_log','interest']]\n",
    "\n",
    "gram = np.dot(gnp_log_interest.values.transpose(), gnp_log_interest.values)/invest_log.size"
   ]
  },
  {
   "cell_type": "code",
   "execution_count": 131,
   "metadata": {},
   "outputs": [
    {
     "name": "stdout",
     "output_type": "stream",
     "text": [
      "The associated Gram matrix is of full rank\n"
     ]
    }
   ],
   "source": [
    "rank = np.linalg.matrix_rank(gram)\n",
    "\n",
    "if rank == 3 :\n",
    "    print(\"The associated Gram matrix is of full rank\")\n",
    "else :\n",
    "    print(\"The associated Gram matrix isn't of full rank\")"
   ]
  },
  {
   "cell_type": "markdown",
   "metadata": {},
   "source": [
    "### Q.10"
   ]
  },
  {
   "cell_type": "code",
   "execution_count": 134,
   "metadata": {},
   "outputs": [],
   "source": [
    "theta = np.linalg.inv(np.dot(gnp_log_interest.values.transpose(), gnp_log_interest.values)).dot(gnp_log_interest.values.transpose()).dot(invest_log.values)\n",
    "\n",
    "sigma_squared2 = sum((invest_log-np.dot(gnp_log_interest.values, theta))**2)/(n-(2+1))\n",
    "\n",
    "C = sigma_squared2*np.linalg.inv(np.dot(gnp_log_interest.values.transpose(), gnp_log_interest.values))\n",
    "\n",
    "R = np.sqrt(sum((np.dot(gnp_log_interest.values, theta)-invest_log.mean())**2)/sum((invest_log-invest_log.mean())**2))\n"
   ]
  }
 ],
 "metadata": {
  "kernelspec": {
   "display_name": "Python 3",
   "language": "python",
   "name": "python3"
  },
  "language_info": {
   "codemirror_mode": {
    "name": "ipython",
    "version": 3
   },
   "file_extension": ".py",
   "mimetype": "text/x-python",
   "name": "python",
   "nbconvert_exporter": "python",
   "pygments_lexer": "ipython3",
   "version": "3.11.7"
  }
 },
 "nbformat": 4,
 "nbformat_minor": 2
}
